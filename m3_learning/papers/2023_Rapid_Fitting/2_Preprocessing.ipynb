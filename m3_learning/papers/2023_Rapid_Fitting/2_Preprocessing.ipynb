{
 "cells": [
  {
   "cell_type": "markdown",
   "id": "e7711a85",
   "metadata": {},
   "source": [
    "## Import Packages"
   ]
  },
  {
   "cell_type": "code",
   "execution_count": 3,
   "id": "6ec9c022",
   "metadata": {},
   "outputs": [],
   "source": [
    "import sys\n",
    "sys.path.append('../../')"
   ]
  },
  {
   "cell_type": "code",
   "execution_count": 9,
   "id": "32dfa529",
   "metadata": {},
   "outputs": [
    {
     "name": "stdout",
     "output_type": "stream",
     "text": [
      "The autoreload extension is already loaded. To reload it, use:\n",
      "  %reload_ext autoreload\n"
     ]
    }
   ],
   "source": [
    "%load_ext autoreload\n",
    "# import gdown\n",
    "# import time\n",
    "import h5py\n",
    "# import pyUSID as usid\n",
    "import numpy as np\n",
    "\n",
    "# import matplotlib.pyplot as plt\n",
    "# from matplotlib.patches import ConnectionPatch\n",
    "\n",
    "\n",
    "from src.m3_learning.be.util import print_be_tree, SHO_Fitter\n",
    "# from src.m3_learning.nn.random import random_seed\n",
    "# from src.m3_learning.viz.style import style\n",
    "# from src.m3_learning.be.processing import convert_real_imag\n",
    "# from src.m3_learning.viz.layout import layout_fig\n",
    "# from src.m3_learning.util.h5_util import make_dataset, make_group\n",
    "from scipy.signal import resample\n",
    "# from scipy import fftpack\n",
    "\n",
    "\n",
    "\n",
    "# style(\"default\")\n",
    "# random_seed(seed=42)\n",
    "\n",
    "%matplotlib inline"
   ]
  },
  {
   "cell_type": "code",
   "execution_count": 1,
   "id": "23db989b",
   "metadata": {},
   "outputs": [],
   "source": [
    "# Sets path to file\n",
    "path = r\"C:/Users/jca92/Documents/codes/m3_learning/m3_learning/papers/2023_Rapid_Fitting/data/\""
   ]
  },
  {
   "cell_type": "code",
   "execution_count": 5,
   "id": "24920f29",
   "metadata": {},
   "outputs": [
    {
     "name": "stdout",
     "output_type": "stream",
     "text": [
      "/\n",
      "├ Measurement_000\n",
      "  ---------------\n",
      "  ├ Channel_000\n",
      "    -----------\n",
      "    ├ Bin_FFT\n",
      "    ├ Bin_Frequencies\n",
      "    ├ Bin_Indices\n",
      "    ├ Bin_Step\n",
      "    ├ Bin_Wfm_Type\n",
      "    ├ Excitation_Waveform\n",
      "    ├ Noise_Floor\n",
      "    ├ Position_Indices\n",
      "    ├ Position_Values\n",
      "    ├ Raw_Data\n",
      "    ├ Raw_Data-SHO_Fit_000\n",
      "      --------------------\n",
      "      ├ Fit\n",
      "      ├ Guess\n",
      "      ├ Spectroscopic_Indices\n",
      "      ├ Spectroscopic_Values\n",
      "      ├ completed_fit_positions\n",
      "      ├ completed_guess_positions\n",
      "    ├ Spatially_Averaged_Plot_Group_000\n",
      "      ---------------------------------\n",
      "      ├ Bin_Frequencies\n",
      "      ├ Max_Response\n",
      "      ├ Mean_Spectrogram\n",
      "      ├ Min_Response\n",
      "      ├ Spectroscopic_Parameter\n",
      "      ├ Step_Averaged_Response\n",
      "    ├ Spatially_Averaged_Plot_Group_001\n",
      "      ---------------------------------\n",
      "      ├ Bin_Frequencies\n",
      "      ├ Max_Response\n",
      "      ├ Mean_Spectrogram\n",
      "      ├ Min_Response\n",
      "      ├ Spectroscopic_Parameter\n",
      "      ├ Step_Averaged_Response\n",
      "    ├ Spectroscopic_Indices\n",
      "    ├ Spectroscopic_Values\n",
      "    ├ UDVS\n",
      "    ├ UDVS_Indices\n",
      "    ├ complex\n",
      "      -------\n",
      "      ├ imag\n",
      "      ├ real\n",
      "├ Raw_Data-SHO_Fit_000\n",
      "  --------------------\n",
      "  ├ Fit\n",
      "  ├ Guess\n",
      "  ├ Spectroscopic_Indices\n",
      "  ├ Spectroscopic_Values\n",
      "  ├ completed_fit_positions\n",
      "  ├ completed_guess_positions\n",
      "  ├ completed_positions\n",
      "Datasets and datagroups within the file:\n",
      "------------------------------------\n",
      "/\n",
      "/Measurement_000\n",
      "/Measurement_000/Channel_000\n",
      "/Measurement_000/Channel_000/Bin_FFT\n",
      "/Measurement_000/Channel_000/Bin_Frequencies\n",
      "/Measurement_000/Channel_000/Bin_Indices\n",
      "/Measurement_000/Channel_000/Bin_Step\n",
      "/Measurement_000/Channel_000/Bin_Wfm_Type\n",
      "/Measurement_000/Channel_000/Excitation_Waveform\n",
      "/Measurement_000/Channel_000/Noise_Floor\n",
      "/Measurement_000/Channel_000/Position_Indices\n",
      "/Measurement_000/Channel_000/Position_Values\n",
      "/Measurement_000/Channel_000/Raw_Data\n",
      "/Measurement_000/Channel_000/Raw_Data-SHO_Fit_000\n",
      "/Measurement_000/Channel_000/Raw_Data-SHO_Fit_000/Fit\n",
      "/Measurement_000/Channel_000/Raw_Data-SHO_Fit_000/Guess\n",
      "/Measurement_000/Channel_000/Raw_Data-SHO_Fit_000/Spectroscopic_Indices\n",
      "/Measurement_000/Channel_000/Raw_Data-SHO_Fit_000/Spectroscopic_Values\n",
      "/Measurement_000/Channel_000/Raw_Data-SHO_Fit_000/completed_fit_positions\n",
      "/Measurement_000/Channel_000/Raw_Data-SHO_Fit_000/completed_guess_positions\n",
      "/Measurement_000/Channel_000/Spatially_Averaged_Plot_Group_000\n",
      "/Measurement_000/Channel_000/Spatially_Averaged_Plot_Group_000/Bin_Frequencies\n",
      "/Measurement_000/Channel_000/Spatially_Averaged_Plot_Group_000/Max_Response\n",
      "/Measurement_000/Channel_000/Spatially_Averaged_Plot_Group_000/Mean_Spectrogram\n",
      "/Measurement_000/Channel_000/Spatially_Averaged_Plot_Group_000/Min_Response\n",
      "/Measurement_000/Channel_000/Spatially_Averaged_Plot_Group_000/Spectroscopic_Parameter\n",
      "/Measurement_000/Channel_000/Spatially_Averaged_Plot_Group_000/Step_Averaged_Response\n",
      "/Measurement_000/Channel_000/Spatially_Averaged_Plot_Group_001\n",
      "/Measurement_000/Channel_000/Spatially_Averaged_Plot_Group_001/Bin_Frequencies\n",
      "/Measurement_000/Channel_000/Spatially_Averaged_Plot_Group_001/Max_Response\n",
      "/Measurement_000/Channel_000/Spatially_Averaged_Plot_Group_001/Mean_Spectrogram\n",
      "/Measurement_000/Channel_000/Spatially_Averaged_Plot_Group_001/Min_Response\n",
      "/Measurement_000/Channel_000/Spatially_Averaged_Plot_Group_001/Spectroscopic_Parameter\n",
      "/Measurement_000/Channel_000/Spatially_Averaged_Plot_Group_001/Step_Averaged_Response\n",
      "/Measurement_000/Channel_000/Spectroscopic_Indices\n",
      "/Measurement_000/Channel_000/Spectroscopic_Values\n",
      "/Measurement_000/Channel_000/UDVS\n",
      "/Measurement_000/Channel_000/UDVS_Indices\n",
      "/Measurement_000/Channel_000/complex\n",
      "/Measurement_000/Channel_000/complex/imag\n",
      "/Measurement_000/Channel_000/complex/real\n",
      "/Raw_Data-SHO_Fit_000\n",
      "/Raw_Data-SHO_Fit_000/Fit\n",
      "/Raw_Data-SHO_Fit_000/Guess\n",
      "/Raw_Data-SHO_Fit_000/Spectroscopic_Indices\n",
      "/Raw_Data-SHO_Fit_000/Spectroscopic_Values\n",
      "/Raw_Data-SHO_Fit_000/completed_fit_positions\n",
      "/Raw_Data-SHO_Fit_000/completed_guess_positions\n",
      "/Raw_Data-SHO_Fit_000/completed_positions\n",
      "\n",
      "The main dataset:\n",
      "------------------------------------\n",
      "<HDF5 file \"data_file.h5\" (mode r+)>\n",
      "\n",
      "The ancillary datasets:\n",
      "------------------------------------\n",
      "<HDF5 dataset \"Position_Indices\": shape (3600, 2), type \"<u4\">\n",
      "<HDF5 dataset \"Position_Values\": shape (3600, 2), type \"<f4\">\n",
      "<HDF5 dataset \"Spectroscopic_Indices\": shape (4, 63360), type \"<u4\">\n",
      "<HDF5 dataset \"Spectroscopic_Values\": shape (4, 63360), type \"<f4\">\n",
      "\n",
      "Metadata or attributes in a datagroup\n",
      "------------------------------------\n",
      "BE_actual_duration_[s] : 0.004\n",
      "BE_amplitude_[V] : 1\n",
      "BE_auto_smoothing : auto smoothing on\n",
      "BE_band_edge_smoothing_[s] : 4832.1\n",
      "BE_band_edge_trim : 0.094742\n",
      "BE_band_width_[Hz] : 200000\n",
      "BE_bins_per_band : 0\n",
      "BE_center_frequency_[Hz] : 1310000\n",
      "BE_desired_duration_[s] : 0.004\n",
      "BE_phase_content : chirp-sinc hybrid\n",
      "BE_phase_variation : 1\n",
      "BE_points_per_BE_wave : 0\n",
      "BE_repeats : 4\n",
      "FORC_V_high1_[V] : 1\n",
      "FORC_V_high2_[V] : 10\n",
      "FORC_V_low1_[V] : -1\n",
      "FORC_V_low2_[V] : -10\n",
      "FORC_num_of_FORC_cycles : 1\n",
      "FORC_num_of_FORC_repeats : 1\n",
      "File_MDAQ_version : MDAQ_VS_090915_01\n",
      "File_date_and_time : 18-Sep-2015 18:32:14\n",
      "File_file_name : SP128_NSO\n",
      "File_file_path : C:\\Users\\Asylum User\\Documents\\Users\\Agar\\SP128_NSO\\\n",
      "File_file_suffix : 99\n",
      "IO_AO_amplifier : 10\n",
      "IO_AO_range_[V] : +/- 10\n",
      "IO_Analog_Input_1 : +/- .1V, FFT\n",
      "IO_Analog_Input_2 : off\n",
      "IO_Analog_Input_3 : off\n",
      "IO_Analog_Input_4 : off\n",
      "IO_DAQ_platform : NI 6115\n",
      "IO_rate_[Hz] : 4000000\n",
      "VS_amplitude_[V] : 16\n",
      "VS_cycle_fraction : full\n",
      "VS_cycle_phase_shift : 0\n",
      "VS_measure_in_field_loops : in and out-of-field\n",
      "VS_mode : DC modulation mode\n",
      "VS_number_of_cycles : 2\n",
      "VS_offset_[V] : 0\n",
      "VS_read_voltage_[V] : 0\n",
      "VS_set_pulse_amplitude[V] : 0\n",
      "VS_set_pulse_duration[s] : 0.002\n",
      "VS_step_edge_smoothing_[s] : 0.001\n",
      "VS_steps_per_full_cycle : 96\n",
      "data_type : BEPSData\n",
      "grid_/single : grid\n",
      "grid_contact_set_point_[V] : 1\n",
      "grid_current_col : 1\n",
      "grid_current_row : 1\n",
      "grid_cycle_time_[s] : 10\n",
      "grid_measuring : 0\n",
      "grid_moving : 0\n",
      "grid_num_cols : 60\n",
      "grid_num_rows : 60\n",
      "grid_settle_time_[s] : 0.15\n",
      "grid_time_remaining_[h;m;s] : 10\n",
      "grid_total_time_[h;m;s] : 10\n",
      "grid_transit_set_point_[V] : 0.1\n",
      "grid_transit_time_[s] : 0.15\n",
      "num_bins : 165\n",
      "num_pix : 3600\n",
      "num_udvs_steps : 384\n"
     ]
    }
   ],
   "source": [
    "print_be_tree(path + \"data_file.h5\")"
   ]
  },
  {
   "cell_type": "markdown",
   "id": "8be02611",
   "metadata": {},
   "source": [
    "### Extract Data"
   ]
  },
  {
   "cell_type": "code",
   "execution_count": 21,
   "id": "6a4ae14a",
   "metadata": {},
   "outputs": [],
   "source": [
    "# Opens the data file\n",
    "h5_f = h5py.File(path + \"data_file.h5\", \"r+\")\n",
    "\n",
    "# number of samples per SHO fit\n",
    "num_bins = h5_f[\"Measurement_000\"].attrs[\"num_bins\"]\n",
    "\n",
    "# number of pixels in the image\n",
    "num_pix = h5_f[\"Measurement_000\"].attrs[\"num_pix\"]\n",
    "\n",
    "# number of pixels in x and y dimensions\n",
    "num_pix_1d = int(np.sqrt(num_pix))\n",
    "\n",
    "# number of DC voltage steps\n",
    "voltage_steps = h5_f[\"Measurement_000\"].attrs[\"num_udvs_steps\"]\n",
    "\n",
    "# # sampling rate\n",
    "# sampling_rate = h5_f[\"Measurement_000\"].attrs[\"IO_rate_[Hz]\"]\n",
    "\n",
    "# # BE bandwidth\n",
    "# be_bandwidth = h5_f[\"Measurement_000\"].attrs[\"BE_band_width_[Hz]\"]\n",
    "\n",
    "# # BE center frequency\n",
    "# be_center_frequency = h5_f[\"Measurement_000\"].attrs[\"BE_center_frequency_[Hz]\"]\n",
    "\n",
    "# Frequency Vector in Hz\n",
    "frequency_bin = h5_f[\"Measurement_000\"][\"Channel_000\"][\"Bin_Frequencies\"][:]\n",
    "\n",
    "# Resampled frequency vector\n",
    "wvec_freq = resample(frequency_bin, 80)\n",
    "\n",
    "# extracting spectroscopic values\n",
    "spectroscopic_values = h5_f[\"Measurement_000\"][\"Channel_000\"][\"Spectroscopic_Values\"]\n",
    "\n",
    "# # extract the real and imaginary components\n",
    "# real = h5_f[\"Measurement_000\"][\"Channel_000\"]['complex']['real'][:]\n",
    "# imag = h5_f[\"Measurement_000\"][\"Channel_000\"]['complex']['imag'][:]"
   ]
  },
  {
   "cell_type": "markdown",
   "id": "29314067",
   "metadata": {},
   "source": [
    "### Resampling\n",
    "\n",
    "add something that checks if exists"
   ]
  },
  {
   "cell_type": "code",
   "execution_count": 35,
   "id": "96587065",
   "metadata": {},
   "outputs": [],
   "source": [
    "# resample raw data from 165 to 80 voltage steps\n",
    "h5_f[\"Measurement_000\"][\"Channel_000\"]['raw_data_resample'][:] = resample(np.array(h5_f[\"Measurement_000\"][\"Channel_000\"][\"Raw_Data\"]).reshape(-1, 165), 80, axis=1)"
   ]
  },
  {
   "cell_type": "code",
   "execution_count": 31,
   "id": "41fbe383",
   "metadata": {},
   "outputs": [],
   "source": [
    "# resample both real and imaginary components\n",
    "h5_f[\"Measurement_000\"][\"Channel_000\"]['complex']['real_resample'][:] = resample(real.reshape(num_pix, -1, num_bins), 80, axis=2)\n",
    "h5_f[\"Measurement_000\"][\"Channel_000\"]['complex']['imag_resample'][:] = resample(imag.reshape(num_pix, -1, num_bins), 80, axis=2)"
   ]
  },
  {
   "cell_type": "markdown",
   "id": "fa53bd44",
   "metadata": {
    "id": "N-5q_r8AV_nO"
   },
   "source": [
    "## Visualizing Input Data\n"
   ]
  },
  {
   "cell_type": "markdown",
   "id": "36c3fa62",
   "metadata": {
    "id": "cBHpl8Aseu3Y"
   },
   "source": [
    "### Comparison of original and resampled data\n"
   ]
  },
  {
   "cell_type": "code",
   "execution_count": 1,
   "id": "9b5482ef",
   "metadata": {
    "colab": {
     "base_uri": "https://localhost:8080/",
     "height": 441
    },
    "id": "74BkRHA7YDQJ",
    "outputId": "f65da885-bf15-494c-bd61-48cee777a166"
   },
   "outputs": [
    {
     "ename": "NameError",
     "evalue": "name 'h5_f' is not defined",
     "output_type": "error",
     "traceback": [
      "\u001b[1;31m---------------------------------------------------------------------------\u001b[0m",
      "\u001b[1;31mNameError\u001b[0m                                 Traceback (most recent call last)",
      "Cell \u001b[1;32mIn [1], line 2\u001b[0m\n\u001b[0;32m      1\u001b[0m \u001b[38;5;66;03m# generates random pixel position and timestep\u001b[39;00m\n\u001b[1;32m----> 2\u001b[0m pixel \u001b[38;5;241m=\u001b[39m np\u001b[38;5;241m.\u001b[39mrandom\u001b[38;5;241m.\u001b[39mrandint(\u001b[38;5;241m0\u001b[39m, \u001b[43mh5_f\u001b[49m[\u001b[38;5;124m\"\u001b[39m\u001b[38;5;124mMeasurement_000\u001b[39m\u001b[38;5;124m\"\u001b[39m][\u001b[38;5;124m\"\u001b[39m\u001b[38;5;124mChannel_000\u001b[39m\u001b[38;5;124m\"\u001b[39m][\u001b[38;5;124m'\u001b[39m\u001b[38;5;124mreal_imaginary\u001b[39m\u001b[38;5;124m'\u001b[39m][\u001b[38;5;124m'\u001b[39m\u001b[38;5;124mreal\u001b[39m\u001b[38;5;124m'\u001b[39m]\u001b[38;5;241m.\u001b[39mshape[\u001b[38;5;241m0\u001b[39m])\n\u001b[0;32m      3\u001b[0m timestep \u001b[38;5;241m=\u001b[39m np\u001b[38;5;241m.\u001b[39mrandom\u001b[38;5;241m.\u001b[39mrandint(\u001b[38;5;241m0\u001b[39m, h5_f[\u001b[38;5;124m\"\u001b[39m\u001b[38;5;124mMeasurement_000\u001b[39m\u001b[38;5;124m\"\u001b[39m][\u001b[38;5;124m\"\u001b[39m\u001b[38;5;124mChannel_000\u001b[39m\u001b[38;5;124m\"\u001b[39m][\u001b[38;5;124m'\u001b[39m\u001b[38;5;124mreal_imaginary\u001b[39m\u001b[38;5;124m'\u001b[39m][\u001b[38;5;124m'\u001b[39m\u001b[38;5;124mreal\u001b[39m\u001b[38;5;124m'\u001b[39m]\u001b[38;5;241m.\u001b[39mshape[\u001b[38;5;241m1\u001b[39m]) \u001b[38;5;241m/\u001b[39m\u001b[38;5;241m/\u001b[39m num_bins\n\u001b[0;32m      5\u001b[0m \u001b[38;5;66;03m# plot real and imaginary components of resampled data\u001b[39;00m\n",
      "\u001b[1;31mNameError\u001b[0m: name 'h5_f' is not defined"
     ]
    }
   ],
   "source": [
    "# generates random pixel position and timestep\n",
    "pixel = np.random.randint(0, h5_f[\"Measurement_000\"][\"Channel_000\"]['complex']['real'].shape[0])\n",
    "timestep = np.random.randint(0, h5_f[\"Measurement_000\"][\"Channel_000\"]['complex']['real'].shape[1]) // num_bins\n",
    "\n",
    "# plot real and imaginary components of resampled data\n",
    "fig, axs = plt.subplots(nrows=1, ncols=2, figsize=(12, 6))\n",
    "\n",
    "# axs[0].set_title('Magnitude/Phase representation')\n",
    "axs[0].plot(\n",
    "    frequency_bin,\n",
    "    magnitude_graph_initial_full[pixel].reshape(-1, num_bins)[timestep],\n",
    "    label=\"amplitude\",\n",
    "    color=\"b\",\n",
    ")\n",
    "axs[0].plot(\n",
    "    wvec_freq,\n",
    "    magnitude_graph_initial.reshape(num_pix, voltage_steps, -1)[pixel, timestep],\n",
    "    \"o\",\n",
    "    label=\"amplitude resampled\",\n",
    "    color=\"b\",\n",
    ")\n",
    "axs[0].set(xlabel=\"Frequency (Hz)\", ylabel=\"Amplitude (Arb. U.)\")\n",
    "ax2 = axs[0].twinx()\n",
    "ax2.plot(\n",
    "    frequency_bin,\n",
    "    phase_graph_initial_full[pixel].reshape(-1, num_bins)[timestep],\n",
    "    label=\"phase\",\n",
    "    color=\"r\",\n",
    ")\n",
    "ax2.plot(\n",
    "    wvec_freq,\n",
    "    phase_graph_initial.reshape(num_pix, voltage_steps, -1)[pixel, timestep],\n",
    "    \"o\",\n",
    "    label=\"phase resampled\",\n",
    "    color=\"r\",\n",
    ")\n",
    "ax2.set(xlabel=\"Frequency (Hz)\", ylabel=\"Phase (rad)\")\n",
    "\n",
    "# axs[1].set_title('Real and Imaginary')\n",
    "axs[1].plot(wvec_freq, real_resample[pixel, timestep], \"s\")\n",
    "\n",
    "axs[1].plot(frequency_bin, h5_f[\"Measurement_000\"][\"Channel_000\"]['real_imaginary']['real'][pixel].reshape(-1, num_bins)[timestep], label=\"Real\")\n",
    "\n",
    "axs[1].plot(wvec_freq, imag_resample[pixel, timestep], \"s\")\n",
    "\n",
    "axs[1].plot(\n",
    "    frequency_bin, h5_f[\"Measurement_000\"][\"Channel_000\"]['real_imaginary']['imag'][pixel].reshape(-1, num_bins)[timestep], label=\"Imaginary\"\n",
    ")\n",
    "\n",
    "axs[1].set(xlabel=\"Frequency (Hz)\", ylabel=\"Amplitude (Arb. U.)\")\n",
    "\n",
    "fig.legend(bbox_to_anchor=(1.16, 0.93), loc=\"upper right\", borderaxespad=0.0)\n",
    "fig.tight_layout()\n",
    "\n",
    "plt.savefig(f\"{path}Assets/Figures/SHO_input.png\", pad_inches=1)\n",
    "plt.savefig(f\"{path}Assets/Figures/SHO_input.svg\", pad_inches=1)"
   ]
  },
  {
   "cell_type": "code",
   "execution_count": 36,
   "id": "470ef065",
   "metadata": {},
   "outputs": [],
   "source": [
    "h5_f.close()"
   ]
  },
  {
   "cell_type": "code",
   "execution_count": null,
   "id": "7cd40fe1",
   "metadata": {},
   "outputs": [],
   "source": []
  }
 ],
 "metadata": {
  "kernelspec": {
   "display_name": "Python 3 (ipykernel)",
   "language": "python",
   "name": "python3"
  },
  "language_info": {
   "codemirror_mode": {
    "name": "ipython",
    "version": 3
   },
   "file_extension": ".py",
   "mimetype": "text/x-python",
   "name": "python",
   "nbconvert_exporter": "python",
   "pygments_lexer": "ipython3",
   "version": "3.10.0"
  },
  "varInspector": {
   "cols": {
    "lenName": 16,
    "lenType": 16,
    "lenVar": 40
   },
   "kernels_config": {
    "python": {
     "delete_cmd_postfix": "",
     "delete_cmd_prefix": "del ",
     "library": "var_list.py",
     "varRefreshCmd": "print(var_dic_list())"
    },
    "r": {
     "delete_cmd_postfix": ") ",
     "delete_cmd_prefix": "rm(",
     "library": "var_list.r",
     "varRefreshCmd": "cat(var_dic_list()) "
    }
   },
   "types_to_exclude": [
    "module",
    "function",
    "builtin_function_or_method",
    "instance",
    "_Feature"
   ],
   "window_display": false
  }
 },
 "nbformat": 4,
 "nbformat_minor": 5
}
