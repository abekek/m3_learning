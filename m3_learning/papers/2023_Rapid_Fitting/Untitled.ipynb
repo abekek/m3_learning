{
 "cells": [
  {
   "cell_type": "code",
   "execution_count": 1,
   "id": "1cc8247d",
   "metadata": {},
   "outputs": [],
   "source": [
    "import sys\n",
    "sys.path.append('../../')"
   ]
  },
  {
   "cell_type": "code",
   "execution_count": 2,
   "id": "ad63c0fd",
   "metadata": {
    "scrolled": true
   },
   "outputs": [],
   "source": [
    "from src.m3_learning.be.util import print_be_tree, SHO_Fitter, SHO_fit_to_array\n",
    "from src.m3_learning.util.file_IO import download_and_unzip"
   ]
  },
  {
   "cell_type": "code",
   "execution_count": 5,
   "id": "c58b351e",
   "metadata": {},
   "outputs": [
    {
     "name": "stdout",
     "output_type": "stream",
     "text": [
      "downloading data\n",
      "...103%, 0 MB, 114 KB/s, 1 seconds passedsedextracting {filename} to {save_path}\n"
     ]
    }
   ],
   "source": [
    "url = 'https://zenodo.org/record/7294987/files/citation-file-format/ruby-cff-v1.0.1.zip?download=1'\n",
    "filename = 'ruby-cff-v1.0.1.zip'\n",
    "save_path = './'\n",
    "\n",
    "download_and_unzip(filename, url, save_path, True)"
   ]
  },
  {
   "cell_type": "code",
   "execution_count": 4,
   "id": "306f9449",
   "metadata": {},
   "outputs": [
    {
     "name": "stdout",
     "output_type": "stream",
     "text": [
      "downloading data\n",
      "...103%, 0 MB, 108 KB/s, 1 seconds passedsedextracting {filename} to {save_path}\n"
     ]
    }
   ],
   "source": [
    "# Downloading data for Phase Field simulations and full training data\n",
    "# note these are big files >50 gb\n",
    "download_data = True\n",
    "\n",
    "url = 'https://zenodo.org/record/7294987/files/citation-file-format/ruby-cff-v1.0.1.zip?download=1'\n",
    "filename = 'train_model_zip.zip'\n",
    "save_path = './'\n",
    "\n",
    "download_and_unzip(filename, url, save_path, download_data)"
   ]
  },
  {
   "cell_type": "code",
   "execution_count": null,
   "id": "ee1989a8",
   "metadata": {},
   "outputs": [],
   "source": []
  }
 ],
 "metadata": {
  "kernelspec": {
   "display_name": "Python 3 (ipykernel)",
   "language": "python",
   "name": "python3"
  },
  "language_info": {
   "codemirror_mode": {
    "name": "ipython",
    "version": 3
   },
   "file_extension": ".py",
   "mimetype": "text/x-python",
   "name": "python",
   "nbconvert_exporter": "python",
   "pygments_lexer": "ipython3",
   "version": "3.10.0"
  },
  "varInspector": {
   "cols": {
    "lenName": 16,
    "lenType": 16,
    "lenVar": 40
   },
   "kernels_config": {
    "python": {
     "delete_cmd_postfix": "",
     "delete_cmd_prefix": "del ",
     "library": "var_list.py",
     "varRefreshCmd": "print(var_dic_list())"
    },
    "r": {
     "delete_cmd_postfix": ") ",
     "delete_cmd_prefix": "rm(",
     "library": "var_list.r",
     "varRefreshCmd": "cat(var_dic_list()) "
    }
   },
   "types_to_exclude": [
    "module",
    "function",
    "builtin_function_or_method",
    "instance",
    "_Feature"
   ],
   "window_display": false
  }
 },
 "nbformat": 4,
 "nbformat_minor": 5
}
