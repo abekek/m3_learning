{
 "cells": [
  {
   "cell_type": "code",
   "execution_count": 1,
   "id": "1cc8247d",
   "metadata": {},
   "outputs": [],
   "source": [
    "import sys\n",
    "sys.path.append('../../')"
   ]
  },
  {
   "cell_type": "code",
   "execution_count": 2,
   "id": "ad63c0fd",
   "metadata": {
    "scrolled": true
   },
   "outputs": [],
   "source": [
    "from src.m3_learning.be.util import print_be_tree, SHO_Fitter, SHO_fit_to_array\n",
    "from src.m3_learning.util.file_IO import download_and_unzip"
   ]
  },
  {
   "cell_type": "code",
   "execution_count": 3,
   "id": "c58b351e",
   "metadata": {},
   "outputs": [
    {
     "ename": "NameError",
     "evalue": "name 'download_and_unzip' is not defined",
     "output_type": "error",
     "traceback": [
      "\u001b[1;31m---------------------------------------------------------------------------\u001b[0m",
      "\u001b[1;31mNameError\u001b[0m                                 Traceback (most recent call last)",
      "Cell \u001b[1;32mIn [3], line 5\u001b[0m\n\u001b[0;32m      2\u001b[0m filename \u001b[39m=\u001b[39m \u001b[39m'\u001b[39m\u001b[39mruby-cff-v1.0.1.zip\u001b[39m\u001b[39m'\u001b[39m\n\u001b[0;32m      3\u001b[0m save_path \u001b[39m=\u001b[39m \u001b[39m'\u001b[39m\u001b[39m./\u001b[39m\u001b[39m'\u001b[39m\n\u001b[1;32m----> 5\u001b[0m download_and_unzip(filename, url, save_path)\n",
      "\u001b[1;31mNameError\u001b[0m: name 'download_and_unzip' is not defined"
     ]
    }
   ],
   "source": [
    "url = 'https://zenodo.org/record/7294987/files/citation-file-format/ruby-cff-v1.0.1.zip?download=1'\n",
    "filename = 'ruby-cff-v1.0.1.zip'\n",
    "save_path = './'\n",
    "\n",
    "download_and_unzip(filename, url, save_path)"
   ]
  },
  {
   "cell_type": "code",
   "execution_count": 4,
   "id": "306f9449",
   "metadata": {},
   "outputs": [
    {
     "name": "stdout",
     "output_type": "stream",
     "text": [
      "downloading data\n",
      "...103%, 0 MB, 108 KB/s, 1 seconds passedsedextracting {filename} to {save_path}\n"
     ]
    }
   ],
   "source": [
    "# Downloading data for Phase Field simulations and full training data\n",
    "# note these are big files >50 gb\n",
    "download_data = True\n",
    "\n",
    "url = 'https://zenodo.org/record/7294987/files/citation-file-format/ruby-cff-v1.0.1.zip?download=1'\n",
    "filename = 'train_model_zip.zip'\n",
    "save_path = './'\n",
    "\n",
    "download_and_unzip(filename, url, save_path, download_data)"
   ]
  },
  {
   "cell_type": "code",
   "execution_count": 2,
   "id": "ee1989a8",
   "metadata": {},
   "outputs": [
    {
     "data": {
      "text/plain": [
       "True"
      ]
     },
     "execution_count": 2,
     "metadata": {},
     "output_type": "execute_result"
    }
   ],
   "source": [
    "\".zip\" in 'train_model_zip.zip'"
   ]
  },
  {
   "cell_type": "code",
   "execution_count": null,
   "id": "1b2d34e3",
   "metadata": {},
   "outputs": [],
   "source": []
  }
 ],
 "metadata": {
  "kernelspec": {
   "display_name": "Python 3.10.0 ('rapid_fitting')",
   "language": "python",
   "name": "python3"
  },
  "language_info": {
   "codemirror_mode": {
    "name": "ipython",
    "version": 3
   },
   "file_extension": ".py",
   "mimetype": "text/x-python",
   "name": "python",
   "nbconvert_exporter": "python",
   "pygments_lexer": "ipython3",
   "version": "3.10.0"
  },
  "varInspector": {
   "cols": {
    "lenName": 16,
    "lenType": 16,
    "lenVar": 40
   },
   "kernels_config": {
    "python": {
     "delete_cmd_postfix": "",
     "delete_cmd_prefix": "del ",
     "library": "var_list.py",
     "varRefreshCmd": "print(var_dic_list())"
    },
    "r": {
     "delete_cmd_postfix": ") ",
     "delete_cmd_prefix": "rm(",
     "library": "var_list.r",
     "varRefreshCmd": "cat(var_dic_list()) "
    }
   },
   "types_to_exclude": [
    "module",
    "function",
    "builtin_function_or_method",
    "instance",
    "_Feature"
   ],
   "window_display": false
  },
  "vscode": {
   "interpreter": {
    "hash": "3e30a7e7bd02bfe1defc1d1e58ff7af403bcce363b3031aab2e514c3896e114b"
   }
  }
 },
 "nbformat": 4,
 "nbformat_minor": 5
}
