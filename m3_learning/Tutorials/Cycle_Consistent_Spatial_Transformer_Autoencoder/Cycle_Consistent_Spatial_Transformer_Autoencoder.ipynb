{
  "cells": [
    {
      "cell_type": "markdown",
      "metadata": {
        "id": "KB7KSC5r1Qar"
      },
      "source": [
        "# Simple Tutorial Walking Through Cycle-Consistent Spatial Transforming Autoencoders\n",
        "\n",
        "By Shuyu Qin, Joshua C. Agar\n",
        "\n",
        "Department of Mechanical Engineering and Mechanics\n",
        "Drexel University"
      ]
    },
    {
      "cell_type": "code",
      "execution_count": 1,
      "metadata": {
        "colab": {
          "base_uri": "https://localhost:8080/"
        },
        "id": "aIPhuxCqx049",
        "outputId": "a8b871fe-2b6e-4992-d1cb-81ec0300db77"
      },
      "outputs": [
        {
          "output_type": "stream",
          "name": "stdout",
          "text": [
            "Looking in indexes: https://pypi.org/simple, https://us-python.pkg.dev/colab-wheels/public/simple/\n",
            "\u001b[31mERROR: Could not find a version that satisfies the requirement cv2 (from versions: none)\u001b[0m\n",
            "\u001b[31mERROR: No matching distribution found for cv2\u001b[0m\n"
          ]
        }
      ],
      "source": [
        "!pip install cv2"
      ]
    },
    {
      "cell_type": "markdown",
      "metadata": {
        "id": "-GbJmyO_1itx"
      },
      "source": [
        "## Configuration\n",
        "\n",
        "### Imports packages\n",
        "\n"
      ]
    },
    {
      "cell_type": "code",
      "execution_count": 2,
      "metadata": {
        "id": "29lMNJV9xe7w"
      },
      "outputs": [],
      "source": [
        "import matplotlib.pyplot as plt\n",
        "import numpy as np\n",
        "import torch\n",
        "import torch.nn.functional as F\n",
        "import torch.optim as optim\n",
        "import torch.nn as nn\n",
        "from tqdm import tqdm\n",
        "import cv2\n",
        "from skimage.filters import sobel\n",
        "import tarfile"
      ]
    },
    {
      "cell_type": "markdown",
      "metadata": {
        "id": "8R1uHT1P1sPq"
      },
      "source": [
        "### Downloads Files"
      ]
    },
    {
      "cell_type": "code",
      "execution_count": 3,
      "metadata": {
        "id": "8V3z9ZZFyUiu",
        "colab": {
          "base_uri": "https://localhost:8080/"
        },
        "outputId": "28a3773f-3eb6-40da-b859-30056d8e1767"
      },
      "outputs": [
        {
          "output_type": "stream",
          "name": "stdout",
          "text": [
            "--2022-10-18 00:52:24--  https://github.com/m3-learning/Unsupervised-rotation-detection-and-label-learning/blob/main/cards.tar.xz?raw=true\n",
            "Resolving github.com (github.com)... 20.205.243.166\n",
            "Connecting to github.com (github.com)|20.205.243.166|:443... connected.\n",
            "HTTP request sent, awaiting response... 302 Found\n",
            "Location: https://github.com/m3-learning/Unsupervised-rotation-detection-and-label-learning/raw/main/cards.tar.xz [following]\n",
            "--2022-10-18 00:52:24--  https://github.com/m3-learning/Unsupervised-rotation-detection-and-label-learning/raw/main/cards.tar.xz\n",
            "Reusing existing connection to github.com:443.\n",
            "HTTP request sent, awaiting response... 302 Found\n",
            "Location: https://raw.githubusercontent.com/m3-learning/Unsupervised-rotation-detection-and-label-learning/main/cards.tar.xz [following]\n",
            "--2022-10-18 00:52:25--  https://raw.githubusercontent.com/m3-learning/Unsupervised-rotation-detection-and-label-learning/main/cards.tar.xz\n",
            "Resolving raw.githubusercontent.com (raw.githubusercontent.com)... 185.199.108.133, 185.199.109.133, 185.199.110.133, ...\n",
            "Connecting to raw.githubusercontent.com (raw.githubusercontent.com)|185.199.108.133|:443... connected.\n",
            "HTTP request sent, awaiting response... 200 OK\n",
            "Length: 26016 (25K) [application/octet-stream]\n",
            "Saving to: ‘cards.tar.xz’\n",
            "\n",
            "cards.tar.xz        100%[===================>]  25.41K  --.-KB/s    in 0s      \n",
            "\n",
            "2022-10-18 00:52:25 (130 MB/s) - ‘cards.tar.xz’ saved [26016/26016]\n",
            "\n",
            "--2022-10-18 00:52:25--  https://github.com/m3-learning/Unsupervised-rotation-detection-and-label-learning/blob/main/11.12_unsupervised_learn_label_epoch_17957_coef_0_trainloss_0.0008.pkl?raw=true\n",
            "Resolving github.com (github.com)... 20.205.243.166\n",
            "Connecting to github.com (github.com)|20.205.243.166|:443... connected.\n",
            "HTTP request sent, awaiting response... 302 Found\n",
            "Location: https://github.com/m3-learning/Unsupervised-rotation-detection-and-label-learning/raw/main/11.12_unsupervised_learn_label_epoch_17957_coef_0_trainloss_0.0008.pkl [following]\n",
            "--2022-10-18 00:52:25--  https://github.com/m3-learning/Unsupervised-rotation-detection-and-label-learning/raw/main/11.12_unsupervised_learn_label_epoch_17957_coef_0_trainloss_0.0008.pkl\n",
            "Reusing existing connection to github.com:443.\n",
            "HTTP request sent, awaiting response... 302 Found\n",
            "Location: https://raw.githubusercontent.com/m3-learning/Unsupervised-rotation-detection-and-label-learning/main/11.12_unsupervised_learn_label_epoch_17957_coef_0_trainloss_0.0008.pkl [following]\n",
            "--2022-10-18 00:52:26--  https://raw.githubusercontent.com/m3-learning/Unsupervised-rotation-detection-and-label-learning/main/11.12_unsupervised_learn_label_epoch_17957_coef_0_trainloss_0.0008.pkl\n",
            "Resolving raw.githubusercontent.com (raw.githubusercontent.com)... 185.199.108.133, 185.199.109.133, 185.199.110.133, ...\n",
            "Connecting to raw.githubusercontent.com (raw.githubusercontent.com)|185.199.108.133|:443... connected.\n",
            "HTTP request sent, awaiting response... 200 OK\n",
            "Length: 50045917 (48M) [application/octet-stream]\n",
            "Saving to: ‘11.12_unsupervised_learn_label_epoch_17957_coef_0_trainloss_0.0008.pkl’\n",
            "\n",
            "11.12_unsupervised_ 100%[===================>]  47.73M  --.-KB/s    in 0.09s   \n",
            "\n",
            "2022-10-18 00:52:30 (547 MB/s) - ‘11.12_unsupervised_learn_label_epoch_17957_coef_0_trainloss_0.0008.pkl’ saved [50045917/50045917]\n",
            "\n"
          ]
        }
      ],
      "source": [
        "!wget -O cards.tar.xz https://github.com/m3-learning/Unsupervised-rotation-detection-and-label-learning/blob/main/cards.tar.xz?raw=true\n",
        "!wget -O 11.12_unsupervised_learn_label_epoch_17957_coef_0_trainloss_0.0008.pkl https://github.com/m3-learning/Unsupervised-rotation-detection-and-label-learning/blob/main/11.12_unsupervised_learn_label_epoch_17957_coef_0_trainloss_0.0008.pkl?raw=true"
      ]
    },
    {
      "cell_type": "markdown",
      "metadata": {
        "id": "XGnsP5VK14Wa"
      },
      "source": [
        "#### Extracts Files"
      ]
    },
    {
      "cell_type": "code",
      "execution_count": 4,
      "metadata": {
        "id": "aFQrlSJLyiMm"
      },
      "outputs": [],
      "source": [
        "file = tarfile.open('./cards.tar.xz') \n",
        "file.extractall('./')\n",
        "file.close()"
      ]
    },
    {
      "cell_type": "markdown",
      "metadata": {
        "id": "-3AkKueg2IWu"
      },
      "source": [
        "## Data Preprocessing\n",
        "\n",
        "### Conversion"
      ]
    },
    {
      "cell_type": "code",
      "execution_count": 5,
      "metadata": {
        "id": "D4At_FTxxe7x",
        "colab": {
          "base_uri": "https://localhost:8080/"
        },
        "outputId": "011c308f-7b07-45b4-995d-7136faee87ee"
      },
      "outputs": [
        {
          "output_type": "stream",
          "name": "stderr",
          "text": [
            "/usr/local/lib/python3.7/dist-packages/ipykernel_launcher.py:14: UserWarning: To copy construct from a tensor, it is recommended to use sourceTensor.clone().detach() or sourceTensor.clone().detach().requires_grad_(True), rather than torch.tensor(sourceTensor).\n",
            "  \n",
            "/usr/local/lib/python3.7/dist-packages/ipykernel_launcher.py:15: UserWarning: To copy construct from a tensor, it is recommended to use sourceTensor.clone().detach() or sourceTensor.clone().detach().requires_grad_(True), rather than torch.tensor(sourceTensor).\n",
            "  from ipykernel import kernelapp as app\n",
            "/usr/local/lib/python3.7/dist-packages/ipykernel_launcher.py:16: UserWarning: To copy construct from a tensor, it is recommended to use sourceTensor.clone().detach() or sourceTensor.clone().detach().requires_grad_(True), rather than torch.tensor(sourceTensor).\n",
            "  app.launch_new_instance()\n",
            "/usr/local/lib/python3.7/dist-packages/ipykernel_launcher.py:17: UserWarning: To copy construct from a tensor, it is recommended to use sourceTensor.clone().detach() or sourceTensor.clone().detach().requires_grad_(True), rather than torch.tensor(sourceTensor).\n"
          ]
        }
      ],
      "source": [
        "# Converts images to grayscale\n",
        "card1 = cv2.imread(\"cards/card1.JPG\", cv2.IMREAD_GRAYSCALE)\n",
        "card2 = cv2.imread(\"cards/card2.JPG\", cv2.IMREAD_GRAYSCALE)\n",
        "card3 = cv2.imread(\"cards/card3.JPG\", cv2.IMREAD_GRAYSCALE)\n",
        "card4 = cv2.imread(\"cards/card4.JPG\", cv2.IMREAD_GRAYSCALE)\n",
        "\n",
        "# Normalizes the image based on the max value\n",
        "card1 = torch.tensor(1 - card1 / card1.max())\n",
        "card2 = torch.tensor(1 - card2 / card2.max())\n",
        "card3 = torch.tensor(1 - card3 / card3.max())\n",
        "card4 = torch.tensor(1 - card4 / card4.max())\n",
        "\n",
        "# Resizes the image\n",
        "card_small_1 = torch.tensor(F.interpolate(card1.unsqueeze(0).unsqueeze(1), size=(48,48)),dtype=torch.float)\n",
        "card_small_2 = torch.tensor(F.interpolate(card2.unsqueeze(0).unsqueeze(1), size=(48,48)),dtype=torch.float)\n",
        "card_small_3 = torch.tensor(F.interpolate(card3.unsqueeze(0).unsqueeze(1), size=(48,48)),dtype=torch.float)\n",
        "card_small_4 = torch.tensor(F.interpolate(card4.unsqueeze(0).unsqueeze(1), size=(48,48)),dtype=torch.float)"
      ]
    },
    {
      "cell_type": "markdown",
      "metadata": {
        "id": "diJ86fln2W69"
      },
      "source": [
        "### Raw Data Visulalization"
      ]
    },
    {
      "cell_type": "code",
      "execution_count": 6,
      "metadata": {
        "colab": {
          "base_uri": "https://localhost:8080/",
          "height": 285
        },
        "id": "MzZTavM5xe7y",
        "outputId": "62889007-1bcc-4f98-80d4-76e1cf1fb7ef"
      },
      "outputs": [
        {
          "output_type": "execute_result",
          "data": {
            "text/plain": [
              "<matplotlib.image.AxesImage at 0x7ff74c160d90>"
            ]
          },
          "metadata": {},
          "execution_count": 6
        },
        {
          "output_type": "display_data",
          "data": {
            "text/plain": [
              "<Figure size 432x288 with 1 Axes>"
            ],
            "image/png": "[encoded data removed]"
          },
          "metadata": {
            "needs_background": "light"
          }
        }
      ],
      "source": [
        "plt.imshow(card_small_1.squeeze())"
      ]
    },
    {
      "cell_type": "markdown",
      "metadata": {
        "id": "tQU-TTGs2jWy"
      },
      "source": [
        "### Edge detection"
      ]
    },
    {
      "cell_type": "code",
      "execution_count": 7,
      "metadata": {
        "id": "vBgdUW0Exe7y"
      },
      "outputs": [],
      "source": [
        "# Sobel edge detection\n",
        "card_edge_1 = sobel(card_small_1.squeeze())\n",
        "card_edge_2 = sobel(card_small_2.squeeze())\n",
        "card_edge_3 = sobel(card_small_3.squeeze())\n",
        "card_edge_4 = sobel(card_small_4.squeeze())\n",
        "\n",
        "# Convert to a tensor\n",
        "card_edge_1 = torch.tensor(card_edge_1,dtype=torch.float).unsqueeze(0).unsqueeze(1)\n",
        "card_edge_2 = torch.tensor(card_edge_2,dtype=torch.float).unsqueeze(0).unsqueeze(1)\n",
        "card_edge_3 = torch.tensor(card_edge_3,dtype=torch.float).unsqueeze(0).unsqueeze(1)\n",
        "card_edge_4 = torch.tensor(card_edge_4,dtype=torch.float).unsqueeze(0).unsqueeze(1)"
      ]
    },
    {
      "cell_type": "markdown",
      "metadata": {
        "id": "mubTbD6Y2xEH"
      },
      "source": [
        "## Data Generation\n",
        "\n",
        "This will generate a bunch of images that are rotated from the initial position"
      ]
    },
    {
      "cell_type": "code",
      "execution_count": 8,
      "metadata": {
        "colab": {
          "base_uri": "https://localhost:8080/"
        },
        "id": "jYROdDpxxe7y",
        "outputId": "e0df3053-3ec5-41b4-bb9f-3776825fc481"
      },
      "outputs": [
        {
          "output_type": "stream",
          "name": "stderr",
          "text": [
            "/usr/local/lib/python3.7/dist-packages/torch/nn/functional.py:4278: UserWarning: Default grid_sample and affine_grid behavior has changed to align_corners=False since 1.3.0. Please specify align_corners=True if the old behavior is desired. See the documentation of grid_sample for details.\n",
            "  \"Default grid_sample and affine_grid behavior has changed \"\n",
            "/usr/local/lib/python3.7/dist-packages/torch/nn/functional.py:4216: UserWarning: Default grid_sample and affine_grid behavior has changed to align_corners=False since 1.3.0. Please specify align_corners=True if the old behavior is desired. See the documentation of grid_sample for details.\n",
            "  \"Default grid_sample and affine_grid behavior has changed \"\n"
          ]
        }
      ],
      "source": [
        "# sets the range and the number of steps to generate images\n",
        "angle = torch.linspace(0, 2*np.pi, 2000)\n",
        "\n",
        "# predefines a list\n",
        "input_data_set_1 = []\n",
        "input_data_set_2 = []\n",
        "input_data_set_3 = []\n",
        "input_data_set_4 = []\n",
        "\n",
        "for q in angle:\n",
        "    # defines the theta matrix for an affine transformation\n",
        "    theta = torch.tensor([\n",
        "     [torch.cos(q), torch.sin(q)  , 0],\n",
        "     [-torch.sin(q), torch.cos(q), 0]\n",
        "     ], dtype=torch.float)\n",
        "    \n",
        "    # calculates the grid for the affine transformation\n",
        "    grid = F.affine_grid(theta.unsqueeze(0), card_edge_1.size()) \n",
        "    \n",
        "    # applies the affine transformation to the image\n",
        "    output = F.grid_sample(card_edge_1, grid)\n",
        "    # adds the image to the dataset\n",
        "    input_data_set_1.append(output)\n",
        "    \n",
        "    output = F.grid_sample(card_edge_2, grid)\n",
        "    input_data_set_2.append(output)\n",
        "    \n",
        "    output = F.grid_sample(card_edge_3, grid)\n",
        "    input_data_set_3.append(output)\n",
        "    \n",
        "    output = F.grid_sample(card_edge_4, grid)\n",
        "    input_data_set_4.append(output)\n",
        "\n",
        "# combines all the data together    \n",
        "input_set_1 = torch.stack(input_data_set_1).squeeze(1)\n",
        "input_set_2 = torch.stack(input_data_set_2).squeeze(1)\n",
        "input_set_3 = torch.stack(input_data_set_3).squeeze(1)\n",
        "input_set_4 = torch.stack(input_data_set_4).squeeze(1)"
      ]
    },
    {
      "cell_type": "markdown",
      "metadata": {
        "id": "ob48pgqA3cWN"
      },
      "source": [
        "### Visualize example rotated images"
      ]
    },
    {
      "cell_type": "code",
      "execution_count": 9,
      "metadata": {
        "colab": {
          "base_uri": "https://localhost:8080/",
          "height": 285
        },
        "id": "Sk_uczFjxe7y",
        "outputId": "bfa01918-0748-40ad-bedc-7a125f05371d"
      },
      "outputs": [
        {
          "output_type": "execute_result",
          "data": {
            "text/plain": [
              "<matplotlib.image.AxesImage at 0x7ff7465bdd90>"
            ]
          },
          "metadata": {},
          "execution_count": 9
        },
        {
          "output_type": "display_data",
          "data": {
            "text/plain": [
              "<Figure size 432x288 with 1 Axes>"
            ],
            "image/png": "[encoded data removed]"
          },
          "metadata": {
            "needs_background": "light"
          }
        }
      ],
      "source": [
        "plt.imshow(card_edge_1.squeeze())"
      ]
    },
    {
      "cell_type": "markdown",
      "metadata": {
        "id": "RkBjGr7B3lTY"
      },
      "source": [
        "### Combines into a single dataset"
      ]
    },
    {
      "cell_type": "code",
      "execution_count": 10,
      "metadata": {
        "id": "ZDZZp451xe7z"
      },
      "outputs": [],
      "source": [
        "input_set = torch.cat((input_set_1,input_set_2,input_set_3,input_set_4),axis=0)"
      ]
    },
    {
      "cell_type": "markdown",
      "metadata": {
        "id": "jDjcsxgV3vIT"
      },
      "source": [
        "### Visualize example images in training data"
      ]
    },
    {
      "cell_type": "code",
      "execution_count": 11,
      "metadata": {
        "colab": {
          "base_uri": "https://localhost:8080/",
          "height": 1000
        },
        "id": "ocRbDC50xe7z",
        "outputId": "2b5aa34c-7ad8-43be-bd65-f3663605da48",
        "scrolled": true
      },
      "outputs": [
        {
          "output_type": "display_data",
          "data": {
            "text/plain": [
              "<Figure size 432x288 with 1 Axes>"
            ],
            "image/png": "[encoded data removed]"
          },
          "metadata": {
            "needs_background": "light"
          }
        },
        {
          "output_type": "display_data",
          "data": {
            "text/plain": [
              "<Figure size 432x288 with 1 Axes>"
            ],
            "image/png": "[encoded data removed]"
          },
          "metadata": {
            "needs_background": "light"
          }
        },
        {
          "output_type": "display_data",
          "data": {
            "text/plain": [
              "<Figure size 432x288 with 1 Axes>"
            ],
            "image/png": "[encoded data removed]"
          },
          "metadata": {
            "needs_background": "light"
          }
        },
        {
          "output_type": "display_data",
          "data": {
            "text/plain": [
              "<Figure size 432x288 with 1 Axes>"
            ],
            "image/png": "[encoded data removed]"
          },
          "metadata": {
            "needs_background": "light"
          }
        },
        {
          "output_type": "display_data",
          "data": {
            "text/plain": [
              "<Figure size 432x288 with 1 Axes>"
            ],
            "image/png": "[encoded data removed]"
          },
          "metadata": {
            "needs_background": "light"
          }
        },
        {
          "output_type": "display_data",
          "data": {
            "text/plain": [
              "<Figure size 432x288 with 1 Axes>"
            ],
            "image/png": "[encoded data removed]"
          },
          "metadata": {
            "needs_background": "light"
          }
        },
        {
          "output_type": "display_data",
          "data": {
            "text/plain": [
              "<Figure size 432x288 with 1 Axes>"
            ],
            "image/png": "[encoded data removed]"
          },
          "metadata": {
            "needs_background": "light"
          }
        },
        {
          "output_type": "display_data",
          "data": {
            "text/plain": [
              "<Figure size 432x288 with 1 Axes>"
            ],
            "image/png": "[encoded data removed]"
          },
          "metadata": {
            "needs_background": "light"
          }
        },
        {
          "output_type": "display_data",
          "data": {
            "text/plain": [
              "<Figure size 432x288 with 1 Axes>"
            ],
            "image/png": "[encoded data removed]"
          },
          "metadata": {
            "needs_background": "light"
          }
        },
        {
          "output_type": "display_data",
          "data": {
            "text/plain": [
              "<Figure size 432x288 with 1 Axes>"
            ],
            "image/png": "[encoded data removed]"
          },
          "metadata": {
            "needs_background": "light"
          }
        },
        {
          "output_type": "display_data",
          "data": {
            "text/plain": [
              "<Figure size 432x288 with 1 Axes>"
            ],
            "image/png": "[encoded data removed]"
          },
          "metadata": {
            "needs_background": "light"
          }
        },
        {
          "output_type": "display_data",
          "data": {
            "text/plain": [
              "<Figure size 432x288 with 1 Axes>"
            ],
            "image/png": "[encoded data removed]"
          },
          "metadata": {
            "needs_background": "light"
          }
        },
        {
          "output_type": "display_data",
          "data": {
            "text/plain": [
              "<Figure size 432x288 with 1 Axes>"
            ],
            "image/png": "[encoded data removed]"
          },
          "metadata": {
            "needs_background": "light"
          }
        },
        {
          "output_type": "display_data",
          "data": {
            "text/plain": [
              "<Figure size 432x288 with 1 Axes>"
            ],
            "image/png": "[encoded data removed]"
          },
          "metadata": {
            "needs_background": "light"
          }
        },
        {
          "output_type": "display_data",
          "data": {
            "text/plain": [
              "<Figure size 432x288 with 1 Axes>"
            ],
            "image/png": "[encoded data removed]"
          },
          "metadata": {
            "needs_background": "light"
          }
        },
        {
          "output_type": "display_data",
          "data": {
            "text/plain": [
              "<Figure size 432x288 with 1 Axes>"
            ],
            "image/png": "[encoded data removed]"
          },
          "metadata": {
            "needs_background": "light"
          }
        },
        {
          "output_type": "display_data",
          "data": {
            "text/plain": [
              "<Figure size 432x288 with 1 Axes>"
            ],
            "image/png": "[encoded data removed]"
          },
          "metadata": {
            "needs_background": "light"
          }
        },
        {
          "output_type": "display_data",
          "data": {
            "text/plain": [
              "<Figure size 432x288 with 1 Axes>"
            ],
            "image/png": "[encoded data removed]"
          },
          "metadata": {
            "needs_background": "light"
          }
        },
        {
          "output_type": "display_data",
          "data": {
            "text/plain": [
              "<Figure size 432x288 with 1 Axes>"
            ],
            "image/png": "[encoded data removed]"
          },
          "metadata": {
            "needs_background": "light"
          }
        },
        {
          "output_type": "display_data",
          "data": {
            "text/plain": [
              "<Figure size 432x288 with 1 Axes>"
            ],
            "image/png": "[encoded data removed]"
          },
          "metadata": {
            "needs_background": "light"
          }
        }
      ],
      "source": [
        "for i in range(2000): \n",
        "    if i%100 == 0:\n",
        "        plt.figure()\n",
        "        plt.imshow(input_set_4[i].squeeze())"
      ]
    },
    {
      "cell_type": "markdown",
      "metadata": {
        "id": "TedTGO8S35AE"
      },
      "source": [
        "## Builds the Neural Network Model\n",
        "\n",
        "### Convolutional Block\n",
        "\n",
        "This is a standard convolutional block with ReLu. Each block has 4 layers. There is a layer normalization, and ResNet-like message passing."
      ]
    },
    {
      "cell_type": "code",
      "execution_count": 12,
      "metadata": {
        "id": "eXCJoAUexe7z"
      },
      "outputs": [],
      "source": [
        "class conv_block(nn.Module):\n",
        "    def __init__(self,t_size,n_step):\n",
        "        super(conv_block,self).__init__()\n",
        "        self.cov1d_1 = nn.Conv2d(t_size,t_size,3,stride=1,padding=1,padding_mode = 'zeros')\n",
        "        self.cov1d_2 = nn.Conv2d(t_size,t_size,3,stride=1,padding=1,padding_mode = 'zeros')\n",
        "        self.cov1d_3 = nn.Conv2d(t_size,t_size,3,stride=1,padding=1,padding_mode = 'zeros')\n",
        "        self.norm_3 = nn.LayerNorm(n_step)\n",
        "        self.relu_1 = nn.ReLU()\n",
        "        self.relu_2 = nn.ReLU()\n",
        "        self.relu_3 = nn.ReLU()\n",
        "        \n",
        "    def forward(self,x):\n",
        "        x_input = x\n",
        "        out = self.cov1d_1(x)\n",
        "        out = self.relu_1(out)\n",
        "        out = self.cov1d_2(out)\n",
        "        out = self.relu_2(out)\n",
        "        out = self.cov1d_3(out)\n",
        "        out = self.norm_3(out)\n",
        "        out = self.relu_3(out)\n",
        "        out = out.add(x_input)\n",
        "        \n",
        "        return out"
      ]
    },
    {
      "cell_type": "markdown",
      "metadata": {
        "id": "R0SqTPPh4Tiy"
      },
      "source": [
        "### Idenity Block\n",
        "This is a single convolutional layer with a layer norm and ReLu activation function"
      ]
    },
    {
      "cell_type": "code",
      "execution_count": 13,
      "metadata": {
        "id": "U86eWxQNxe7z"
      },
      "outputs": [],
      "source": [
        "class identity_block(nn.Module):\n",
        "    def __init__(self,t_size,n_step):\n",
        "        super(identity_block,self).__init__()\n",
        "        self.cov1d_1 = nn.Conv2d(t_size,t_size,3,stride=1,padding=1,padding_mode = 'zeros')\n",
        "        self.norm_1 = nn.LayerNorm(n_step)\n",
        "        self.relu = nn.ReLU()\n",
        "        \n",
        "    def forward(self,x):\n",
        "        x_input = x\n",
        "        out = self.cov1d_1(x)\n",
        "        out = self.norm_1(out)\n",
        "        out = self.relu(out)\n",
        "        return out"
      ]
    },
    {
      "cell_type": "markdown",
      "metadata": {
        "id": "QiudNnwF4n2j"
      },
      "source": [
        "### Encoder construction\n",
        "\n",
        "This constructs the encoder using the convolutional and identity blocks. "
      ]
    },
    {
      "cell_type": "code",
      "execution_count": 14,
      "metadata": {
        "id": "u6MSmcRCxe7z"
      },
      "outputs": [],
      "source": [
        "class Encoder(nn.Module):\n",
        "    def __init__(self,original_step_size,pool_list,embedding_size,conv_size):\n",
        "        super(Encoder,self).__init__()\n",
        "        \n",
        "        # list of blocks\n",
        "        blocks = []\n",
        "\n",
        "        # defines the orignal step size\n",
        "        self.input_size_0 = original_step_size[0]\n",
        "        self.input_size_1 = original_step_size[1]\n",
        "\n",
        "        # a list that has the number of pooling layers\n",
        "        number_of_blocks = len(pool_list)\n",
        "\n",
        "        # Adds an initial Conv_block, identity block and max pool\n",
        "        blocks.append(conv_block(t_size=conv_size, n_step=original_step_size))\n",
        "        blocks.append(identity_block(t_size=conv_size, n_step=original_step_size))\n",
        "        blocks.append(nn.MaxPool2d(pool_list[0], stride=pool_list[0]))\n",
        "\n",
        "        # adds additional layers based on the number of blocks\n",
        "        for i in range(1,number_of_blocks):\n",
        "            original_step_size = [original_step_size[0]//pool_list[i-1],original_step_size[1]//pool_list[i-1]]\n",
        "            blocks.append(conv_block(t_size=conv_size, n_step=original_step_size))\n",
        "            blocks.append(identity_block(t_size=conv_size, n_step=original_step_size))\n",
        "            blocks.append(nn.MaxPool2d(pool_list[i], stride=pool_list[i])) \n",
        "            \n",
        "        # defines the convolutional embedding blocks    \n",
        "        self.block_layer = nn.ModuleList(blocks)\n",
        "\n",
        "\n",
        "        self.layers=len(blocks)\n",
        "\n",
        "        original_step_size = [original_step_size[0]//pool_list[-1],original_step_size[1]//pool_list[-1]]\n",
        "        \n",
        "        input_size = original_step_size[0]*original_step_size[1]\n",
        "        \n",
        "        # defines the initial layer\n",
        "        self.cov2d = nn.Conv2d(1,conv_size,3,stride=1,padding=1,padding_mode = 'zeros')\n",
        "        \n",
        "        # defines the conv layer at the end of the conv block\n",
        "        self.cov2d_1 = nn.Conv2d(conv_size,1,3,stride=1,padding=1,padding_mode = 'zeros')\n",
        "        \n",
        "        self.relu_1 = nn.ReLU()\n",
        "        self.tanh = nn.Tanh()\n",
        " \n",
        "        # Layer that takes the ouput of the conv block and reduces its dimensionsl to 20\n",
        "        self.before = nn.Linear(input_size,20)\n",
        "\n",
        "        # layer that takes the 20 parameter latent space and learns the embedding of the affine transformation\n",
        "        self.dense = nn.Linear(20,embedding_size)\n",
        "\n",
        "\n",
        "\n",
        "        \n",
        "    def forward(self,x):\n",
        "\n",
        "        out = x.view(-1,1,self.input_size_0,self.input_size_1)\n",
        "        out = self.cov2d(out)\n",
        "        for i in range(self.layers):\n",
        "            out = self.block_layer[i](out)\n",
        "        out = self.cov2d_1(out)\n",
        "\n",
        "        # flattens the conv layers so it is 1D\n",
        "        out = torch.flatten(out,start_dim=1)\n",
        "\n",
        "        # Embedding that goes to the classification layer\n",
        "        kout = self.before(out)    \n",
        "      \n",
        "        # Fully connected layer that helps learn the affine transformation\n",
        "        out = self.dense(kout)\n",
        "        out = self.tanh(out)\n",
        "\n",
        "        theta = out.view(-1,2,3)\n",
        "        \n",
        "        # learns the grid of the affine tranformation\n",
        "        grid = F.affine_grid(theta.to(device), x.size()).to(device)\n",
        "        \n",
        "        # applies the affine transformation to the image\n",
        "        output = F.grid_sample(x, grid)\n",
        "   \n",
        "        \n",
        "        return output,kout,theta"
      ]
    },
    {
      "cell_type": "markdown",
      "metadata": {
        "id": "bRPxUQed6cbu"
      },
      "source": [
        "### Decoder"
      ]
    },
    {
      "cell_type": "code",
      "execution_count": 15,
      "metadata": {
        "id": "VyQJ9qQsxe7z"
      },
      "outputs": [],
      "source": [
        "class Decoder(nn.Module):\n",
        "    def __init__(self,original_step_size,up_list,embedding_size,conv_size):\n",
        "        super(Decoder,self).__init__()\n",
        "\n",
        "        # Defines the size of the input\n",
        "        self.input_size_0 = original_step_size[0]\n",
        "        self.input_size_1 = original_step_size[1]\n",
        "\n",
        "        # dense layer used for the probability of beloning to each class\n",
        "        self.dense = nn.Linear(4,original_step_size[0]*original_step_size[1])\n",
        "\n",
        "        self.cov2d = nn.Conv2d(1,conv_size,3,stride=1,padding=1,padding_mode = 'zeros')\n",
        "        self.cov2d_1 = nn.Conv2d(conv_size,1,3,stride=1,padding=1,padding_mode = 'zeros')\n",
        "        \n",
        "        # list where the blocks are saved\n",
        "        blocks = []\n",
        "\n",
        "        # number of blocks in the model\n",
        "        number_of_blocks = len(up_list)\n",
        "\n",
        "        # adds the blocks to the model\n",
        "        blocks.append(conv_block(t_size=conv_size, n_step=original_step_size))\n",
        "        blocks.append(identity_block(t_size=conv_size, n_step=original_step_size))\n",
        "        \n",
        "        for i in range(number_of_blocks):\n",
        "            # adds an upsampling layer to compensate for pooling\n",
        "            blocks.append(nn.Upsample(scale_factor=up_list[i], mode='bilinear', align_corners=True))\n",
        "            original_step_size = [original_step_size[0]*up_list[i],original_step_size[1]*up_list[i]]\n",
        "            blocks.append(conv_block(t_size=conv_size, n_step=original_step_size))\n",
        "            blocks.append(identity_block(t_size=conv_size, n_step=original_step_size))\n",
        "            \n",
        "        self.block_layer = nn.ModuleList(blocks)\n",
        "        self.layers=len(blocks)\n",
        "        self.output_size_0 = original_step_size[0]\n",
        "        self.output_size_1 = original_step_size[1]\n",
        "        self.relu_1 = nn.ReLU()\n",
        "        self.norm = nn.LayerNorm(4)\n",
        "\n",
        "        # used to convert probability into classification\n",
        "        self.softmax = nn.Softmax()\n",
        "        \n",
        "        # prediction layer for classification\n",
        "        self.for_k = nn.Linear(20,4)\n",
        "\n",
        "        # number of outputs for the classification layer\n",
        "        self.num_k_sparse=1\n",
        "\n",
        "    def ktop(self,x):\n",
        "        # This conduct the classification based on the encoded value\n",
        "        kout = self.for_k(x)\n",
        "        kout = self.norm(kout)\n",
        "        kout = self.softmax(kout)\n",
        "        k_no = kout.clone()\n",
        "        k = self.num_k_sparse\n",
        "        with torch.no_grad():\n",
        "            if k < kout.shape[1]:\n",
        "                for raw in k_no:\n",
        "                    # computes the k-top layer\n",
        "                    indices = torch.topk(raw, k)[1].to(device)\n",
        "\n",
        "                    # creates a one-hot encoded vector\n",
        "                    mask = torch.ones(raw.shape, dtype=bool).to(device)\n",
        "                    mask[indices] = False\n",
        "                    raw[mask] = 0\n",
        "                    raw[~mask] = 1\n",
        "        return k_no\n",
        "\n",
        "        \n",
        "    def forward(self,x):\n",
        "        # Does the classification\n",
        "        k_out = self.ktop(x)\n",
        "\n",
        "        # uses the classification to the decoder\n",
        "        out = self.dense(k_out)\n",
        "\n",
        "        # reshapes the tensor to be an image of the size of the original image\n",
        "        out = out.view(-1,1,self.input_size_0,self.input_size_1)\n",
        "        \n",
        "        # computes the decoder\n",
        "        out = self.cov2d(out)\n",
        "        for i in range(self.layers):\n",
        "            out = self.block_layer[i](out)\n",
        "        out = self.cov2d_1(out)\n",
        "        out = self.relu_1(out)\n",
        "\n",
        "        \n",
        "        return out, k_out"
      ]
    },
    {
      "cell_type": "code",
      "execution_count": 16,
      "metadata": {
        "id": "H06vwqpPxe7z"
      },
      "outputs": [],
      "source": [
        "class Joint(nn.Module):\n",
        "  # Module that combines the encoder and the decoder\n",
        "\n",
        "    def __init__(self,encoder,decoder):\n",
        "        super(Joint,self).__init__()\n",
        "        \n",
        "        # encoder and decoder\n",
        "        self.encoder  = encoder\n",
        "        self.decoder = decoder\n",
        "\n",
        "        \n",
        "    def forward(self,x):\n",
        "\n",
        "        # gets the result from the encoder \n",
        "        predicted,kout,theta = self.encoder(x)\n",
        "    \n",
        "        # Builds the theta matrix\n",
        "        # We use an identity to ensure there is no translation  \n",
        "        identity = torch.tensor([0,0,1],dtype= torch.float).reshape(1,1,3).repeat(x.shape[0],1,1).to(device)\n",
        "        new_theta = torch.cat((theta,identity),axis=1).to(device)\n",
        "\n",
        "        # Computes the inverse of the affine transoformation\n",
        "        inver_theta = torch.linalg.inv(new_theta)[:,0:2].to(device) \n",
        "\n",
        "        # Calculates the grid for inverse affine\n",
        "        grid = F.affine_grid(inver_theta.to(device), x.size()).to(device)\n",
        "        \n",
        "        # Computes the decoder\n",
        "        predicted_base,k_out = self.decoder(kout)\n",
        "        \n",
        "        # applies the inverse affine transformation to the decoded base\n",
        "        predicted_input = F.grid_sample(predicted_base, grid)\n",
        "        \n",
        "        return predicted,predicted_base,predicted_input,k_out,theta"
      ]
    },
    {
      "cell_type": "code",
      "execution_count": 17,
      "metadata": {
        "id": "_lIFzkPoxe7z"
      },
      "outputs": [],
      "source": [
        "# Size of the original image\n",
        "en_original_step_size=[48,48]\n",
        "\n",
        "# Defines the pooling layer\n",
        "pool_list=[2,2,2]\n",
        "\n",
        "# defines the size of the tensor \n",
        "de_original_step_size = [4,4]\n",
        "\n",
        "# Defines how the upsampling should be conducted\n",
        "up_list = [2,2,3]\n",
        "\n",
        "# Sets the size of the embedding, this is the number of parameters in the affine\n",
        "embedding_size=6\n",
        "\n",
        "# Sets the number of neurons in each layer\n",
        "conv_size =128"
      ]
    },
    {
      "cell_type": "markdown",
      "metadata": {
        "id": "LpPxYC3d-2xp"
      },
      "source": [
        "### Checks operations\n",
        "\n",
        "This model takes a long time to train. You should only consider training the model if you have a GPU and cuda is enabled"
      ]
    },
    {
      "cell_type": "code",
      "execution_count": 18,
      "metadata": {
        "id": "KjixlRluxe70",
        "colab": {
          "base_uri": "https://localhost:8080/"
        },
        "outputId": "2c5df336-8a9a-4b0a-bdcf-5fe94ffa7b1f"
      },
      "outputs": [
        {
          "output_type": "stream",
          "name": "stdout",
          "text": [
            "True\n"
          ]
        }
      ],
      "source": [
        "# checks if cuda is available\n",
        "print(torch.cuda.is_available())\n",
        "\n",
        "# Assigns device to cuda\n",
        "device = torch.device('cuda')"
      ]
    },
    {
      "cell_type": "markdown",
      "metadata": {
        "id": "Aj-kWD7dAf86"
      },
      "source": [
        "### Instantiates the model"
      ]
    },
    {
      "cell_type": "code",
      "execution_count": 19,
      "metadata": {
        "id": "kBqkK_6qxe70"
      },
      "outputs": [],
      "source": [
        "# instantiates the encoder\n",
        "encoder = Encoder(original_step_size=en_original_step_size,\n",
        "                  pool_list=pool_list,\n",
        "                  embedding_size=embedding_size,\n",
        "                  conv_size=conv_size).to(device)\n",
        "\n",
        "# instantiates the decoder\n",
        "decoder = Decoder(original_step_size=de_original_step_size,\n",
        "                  up_list=up_list,\n",
        "                  embedding_size=embedding_size,\n",
        "                  conv_size=conv_size).to(device)\n",
        "\n",
        "# combines the two models                 \n",
        "join = Joint(encoder,decoder).to(device)"
      ]
    },
    {
      "cell_type": "markdown",
      "metadata": {
        "id": "RrNEt8A1Av7s"
      },
      "source": [
        "### Instantiate the optimizer"
      ]
    },
    {
      "cell_type": "code",
      "execution_count": 20,
      "metadata": {
        "id": "SGrcC1vFxe70"
      },
      "outputs": [],
      "source": [
        "optimizer = optim.Adam(join.parameters(), lr=3e-5)"
      ]
    },
    {
      "cell_type": "code",
      "execution_count": 26,
      "metadata": {
        "id": "-D-ngUHDxe70"
      },
      "outputs": [],
      "source": [
        "# load the trained weights\n",
        "path_checkpoint = \"./11.12_unsupervised_learn_label_epoch_17957_coef_0_trainloss_0.0008.pkl\"  \n",
        "checkpoint = torch.load(path_checkpoint,map_location=torch.device('cpu'))  \n",
        "\n",
        "join.load_state_dict(checkpoint['net'])\n",
        "encoder.load_state_dict(checkpoint['encoder'])\n",
        "decoder.load_state_dict(checkpoint['decoder'])\n",
        "optimizer.load_state_dict(checkpoint['optimizer']) \n",
        "start_epoch = checkpoint['epoch']\n"
      ]
    },
    {
      "cell_type": "code",
      "execution_count": null,
      "metadata": {
        "id": "6m-TQqssxe70"
      },
      "outputs": [],
      "source": [
        "# class Regularization(nn.Module):\n",
        "#     def __init__(self, model, weight_decay, p=2):\n",
        "#         '''\n",
        "#         :param model\n",
        "#         :param weight_decay: coeifficient of \n",
        "#         :param p: p=1 is l1 regularization, p=2 is l2 regularizaiton\n",
        "#         '''\n",
        "#         super(Regularization, self).__init__()\n",
        "#         if weight_decay < 0:\n",
        "#             print(\"param weight_decay can not <0\")\n",
        "#             exit(0)\n",
        "#         self.model = model\n",
        "#         self.weight_decay = weight_decay\n",
        "#         self.p = p\n",
        "#         self.weight_list = self.get_weight(model)\n",
        "\n",
        "#     #       self.weight_info(self.weight_list)\n",
        "\n",
        "#     def to(self, device):\n",
        "#         '''\n",
        "#         :param device: cude or cpu\n",
        "#         :return:\n",
        "#         '''\n",
        "#         self.device = device\n",
        "#         super().to(device)\n",
        "#         return self\n",
        "\n",
        "#     def forward(self, model):\n",
        "#         self.weight_list = self.get_weight(model)  \n",
        "#         reg_loss = self.regularization_loss(self.weight_list, self.weight_decay, p=self.p)\n",
        "#         return reg_loss\n",
        "\n",
        "#     def get_weight(self, model):\n",
        "#         '''\n",
        "#         :param model: model\n",
        "#         :return: list of layers needs to be regularized  \n",
        "#         '''\n",
        "#         weight_list = []\n",
        "#         for name, param in model.named_parameters():\n",
        "#             if 'dec' in name and 'weight' in name:\n",
        "#                 weight = (name, param)\n",
        "#                 weight_list.append(weight)\n",
        "#         return weight_list\n",
        "\n",
        "#     def regularization_loss(self, weight_list, weight_decay, p):\n",
        "#         '''\n",
        "#         :param weight_list: list of layers needs to be regularized  \n",
        "#         :param p: p=1 is l1 regularization, p=2 is l2 regularizaiton\n",
        "#         :param weight_decay: coeifficient\n",
        "#         :return: loss\n",
        "#         '''\n",
        "#         # weight_decay=Variable(torch.FloatTensor([weight_decay]).to(self.device),requires_grad=True)\n",
        "#         # reg_loss=Variable(torch.FloatTensor([0.]).to(self.device),requires_grad=True)\n",
        "#         # weight_decay=torch.FloatTensor([weight_decay]).to(self.device)\n",
        "#         # reg_loss=torch.FloatTensor([0.]).to(self.device)\n",
        "#         reg_loss = 0\n",
        "#         for name, w in weight_list:\n",
        "#             l2_reg = torch.norm(w, p=p)\n",
        "#             reg_loss = reg_loss + l2_reg\n",
        "\n",
        "#         reg_loss = weight_decay * reg_loss\n",
        "#         return reg_loss\n",
        "\n",
        "#     def weight_info(self, weight_list):\n",
        "#         '''\n",
        "#         :param weight_list:\n",
        "#         :return: list of layers' name needs to be regularized  \n",
        "#         '''\n",
        "#         print(\"---------------regularization weight---------------\")\n",
        "#         for name, w in weight_list:\n",
        "#             print(name)"
      ]
    },
    {
      "cell_type": "markdown",
      "metadata": {
        "id": "LBx-rQ8hBGro"
      },
      "source": [
        "### Loss Function"
      ]
    },
    {
      "cell_type": "code",
      "execution_count": 27,
      "metadata": {
        "id": "V9-_12ivxe70"
      },
      "outputs": [],
      "source": [
        "def loss_function(join,\n",
        "                  train_iterator,\n",
        "                  optimizer,\n",
        "                  # coef = 0, \n",
        "                  # coef1 = 0,\n",
        "                  ln_parm = 1, \n",
        "                  beta = None):\n",
        "\n",
        "    # weight_decay = coef\n",
        "    # weight_decay_1 = coef1\n",
        "\n",
        "    # set the train mode\n",
        "    join.train()\n",
        "\n",
        "    # loss of the epoch\n",
        "    train_loss = 0\n",
        "\n",
        "    # loop for calculating loss \n",
        "    for x in tqdm(train_iterator, leave=True, total=len(train_iterator)):\n",
        "     \n",
        "\n",
        "        x = x.to(device, dtype=torch.float)\n",
        "\n",
        "        # update the gradients to zero\n",
        "        optimizer.zero_grad()\n",
        "\n",
        "        # computes the forward pass of the model\n",
        "        predicted_x,predicted_base,predicted_input,kout,theta = join(x)\n",
        "\n",
        "        # combines the loss from the affine and inverse affine transform\n",
        "        loss = F.mse_loss(predicted_base.squeeze(), predicted_x.squeeze(), reduction='mean')\\\n",
        "                + F.mse_loss(predicted_input.squeeze(), x.squeeze(), reduction='mean')\n",
        "\n",
        "        # backward pass\n",
        "        train_loss += loss.item()\n",
        "\n",
        "        # computes the gradients\n",
        "        loss.backward()\n",
        "        \n",
        "        # update the weights\n",
        "        optimizer.step()\n",
        "\n",
        "    return train_loss"
      ]
    },
    {
      "cell_type": "markdown",
      "metadata": {
        "id": "-sgaRX8EBur2"
      },
      "source": [
        "### Model Training"
      ]
    },
    {
      "cell_type": "code",
      "execution_count": 28,
      "metadata": {
        "id": "JZzaf6qexe70"
      },
      "outputs": [],
      "source": [
        "def Train(join,encoder,decoder,train_iterator,optimizer,\n",
        "          epochs,coef=0,coef_1=0,ln_parm=1, beta=None, epoch_ = None):\n",
        "    \n",
        "    # sets the number of epochs to train\n",
        "    N_EPOCHS = epochs\n",
        "\n",
        "    best_train_loss = float('inf')\n",
        "    \n",
        "    if epoch_==None:\n",
        "        start_epoch = 0\n",
        "    else:\n",
        "        start_epoch = epoch_+1\n",
        "\n",
        "    # loops around the data set for each epoch\n",
        "    for epoch in range(start_epoch,N_EPOCHS):\n",
        "\n",
        "        # computes the loss\n",
        "        train = loss_function(join,train_iterator,\n",
        "                              optimizer,coef,coef_1,ln_parm,beta)\n",
        "        \n",
        "        # updates and prints the loss\n",
        "        train_loss = train\n",
        "        train_loss /= len(train_iterator)\n",
        "        print(f'Epoch {epoch}, Train Loss: {train_loss:.4f}')\n",
        "        print('.............................')\n",
        "\n",
        "        # If the model shows improvement after 50 epochs will save\n",
        "        if best_train_loss > train_loss:\n",
        "            best_train_loss = train_loss\n",
        "            patience_counter = 1\n",
        "            checkpoint = {\n",
        "                \"net\": join.state_dict(),\n",
        "                \"encoder\":encoder.state_dict(),\n",
        "                \"decoder\":decoder.state_dict(),\n",
        "                'optimizer': optimizer.state_dict(),\n",
        "                \"epoch\": epoch,\n",
        "            }\n",
        "            if epoch >=50:\n",
        "                torch.save(checkpoint, f'/content/drive/MyDrive/cycle_AE_model/11.12_unsupervised_learn_label_epoch:{epoch}_coef:{coef}_trainloss:{train_loss:.4f}.pkl')"
      ]
    },
    {
      "cell_type": "markdown",
      "metadata": {
        "id": "E2Ez-cMgCPWx"
      },
      "source": [
        "### Data loader\n",
        "\n",
        "Defines an iterator that serves as the data loader"
      ]
    },
    {
      "cell_type": "code",
      "execution_count": 29,
      "metadata": {
        "id": "leIGbHF5xe70"
      },
      "outputs": [],
      "source": [
        "train_iterator = torch.utils.data.DataLoader(input_set, batch_size = 300,shuffle = True)"
      ]
    },
    {
      "cell_type": "markdown",
      "metadata": {
        "id": "da4PsSkrCalq"
      },
      "source": [
        "### Trains the model"
      ]
    },
    {
      "cell_type": "code",
      "execution_count": null,
      "metadata": {
        "id": "MTc9_MYoxe70"
      },
      "outputs": [],
      "source": [
        "# unsupervised learn label\n",
        "Train(join,encoder,decoder,train_iterator,optimizer,50000)"
      ]
    },
    {
      "cell_type": "code",
      "execution_count": null,
      "metadata": {
        "id": "lpTrifLWxe70"
      },
      "outputs": [],
      "source": [
        "Train(join,encoder,decoder,train_iterator,optimizer,50000,epoch_=start_epoch)"
      ]
    },
    {
      "cell_type": "code",
      "execution_count": null,
      "metadata": {
        "id": "5LrWwxv6xe73"
      },
      "outputs": [],
      "source": [
        "# # load the trained weights\n",
        "# path_checkpoint = \"transformer_weights/11.12_unsupervised_ktop_learn_label_rotation/11.12_unsupervised_learn_label_epoch:17957_coef:0_trainloss:0.0008.pkl\"  # 断点路径\n",
        "# checkpoint = torch.load(path_checkpoint)  \n",
        "\n",
        "# join.load_state_dict(checkpoint['net'])\n",
        "# encoder.load_state_dict(checkpoint['encoder'])\n",
        "# decoder.load_state_dict(checkpoint['decoder'])\n",
        "# optimizer.load_state_dict(checkpoint['optimizer']) \n",
        "# start_epoch = checkpoint['epoch']"
      ]
    },
    {
      "cell_type": "markdown",
      "metadata": {
        "id": "3Nv1qu_-CjMd"
      },
      "source": [
        "## Validation\n",
        "\n",
        "### Generates a small dataset for "
      ]
    },
    {
      "cell_type": "code",
      "execution_count": 30,
      "metadata": {
        "id": "xOhh6qPhxe73"
      },
      "outputs": [],
      "source": [
        "# generate the test data set for validation\n",
        "angle = torch.linspace(0, 7*np.pi, 25)\n",
        "\n",
        "input_data_set_1 = []\n",
        "input_data_set_2 = []\n",
        "input_data_set_3 = []\n",
        "input_data_set_4 = []\n",
        "\n",
        "for q in angle:\n",
        "    theta = torch.tensor([\n",
        "     [torch.cos(q), torch.sin(q)  , 0],\n",
        "     [-torch.sin(q), torch.cos(q), 0]\n",
        "     ], dtype=torch.float)\n",
        "    grid = F.affine_grid(theta.unsqueeze(0), card_edge_1.size()) \n",
        "    output = F.grid_sample(card_edge_1, grid)\n",
        "    input_data_set_1.append(output)\n",
        "    \n",
        "    output = F.grid_sample(card_edge_2, grid)\n",
        "    input_data_set_2.append(output)\n",
        "    \n",
        "    output = F.grid_sample(card_edge_3, grid)\n",
        "    input_data_set_3.append(output)\n",
        "    \n",
        "    output = F.grid_sample(card_edge_4, grid)\n",
        "    input_data_set_4.append(output)\n",
        "    \n",
        "input_set_1 = torch.stack(input_data_set_1).squeeze(1)\n",
        "input_set_2 = torch.stack(input_data_set_2).squeeze(1)\n",
        "input_set_3 = torch.stack(input_data_set_3).squeeze(1)\n",
        "input_set_4 = torch.stack(input_data_set_4).squeeze(1)\n",
        "input_set_small = torch.cat((input_set_1,input_set_2,input_set_3,input_set_4),axis=0)"
      ]
    },
    {
      "cell_type": "markdown",
      "metadata": {
        "id": "OTLbu0YNDTNA"
      },
      "source": [
        "### Builds a validation iterator"
      ]
    },
    {
      "cell_type": "code",
      "execution_count": 31,
      "metadata": {
        "id": "t5wp3qyGxe73"
      },
      "outputs": [],
      "source": [
        "train_iterator = torch.utils.data.DataLoader(input_set_small, batch_size = 100,shuffle = False)"
      ]
    },
    {
      "cell_type": "markdown",
      "metadata": {
        "id": "FIGtuCR0DWZe"
      },
      "source": [
        "### Grabs a random sample to visualize"
      ]
    },
    {
      "cell_type": "code",
      "execution_count": 32,
      "metadata": {
        "id": "ywERve9Vxe73"
      },
      "outputs": [],
      "source": [
        "sample = next(iter(train_iterator))"
      ]
    },
    {
      "cell_type": "markdown",
      "metadata": {
        "id": "vfQlibj2De5f"
      },
      "source": [
        "### Evaluate the data with the model"
      ]
    },
    {
      "cell_type": "code",
      "execution_count": 33,
      "metadata": {
        "colab": {
          "base_uri": "https://localhost:8080/"
        },
        "id": "PrrJbpk8xe73",
        "outputId": "ed0710f7-29a6-4847-93e4-7c12e1c78e00"
      },
      "outputs": [
        {
          "output_type": "stream",
          "name": "stderr",
          "text": [
            "/usr/local/lib/python3.7/dist-packages/ipykernel_launcher.py:52: UserWarning: Implicit dimension choice for softmax has been deprecated. Change the call to include dim=X as an argument.\n"
          ]
        }
      ],
      "source": [
        "out,base,inp,kout,theta= join(sample.to(device, dtype=torch.float))"
      ]
    },
    {
      "cell_type": "markdown",
      "metadata": {
        "id": "VGkr2MlRDmiV"
      },
      "source": [
        "### Visualize the results"
      ]
    },
    {
      "cell_type": "code",
      "execution_count": 48,
      "metadata": {
        "colab": {
          "base_uri": "https://localhost:8080/",
          "height": 1000
        },
        "id": "fvmZkiI8xe73",
        "outputId": "3145b36f-2514-471d-d3bf-44e4ce417d6f",
        "scrolled": false
      },
      "outputs": [
        {
          "output_type": "stream",
          "name": "stdout",
          "text": [
            "tensor([0., 1., 0., 0.], device='cuda:0', grad_fn=<SelectBackward0>)\n",
            "tensor([0., 0., 1., 0.], device='cuda:0', grad_fn=<SelectBackward0>)\n",
            "tensor([0., 0., 0., 1.], device='cuda:0', grad_fn=<SelectBackward0>)\n",
            "tensor([0., 0., 0., 1.], device='cuda:0', grad_fn=<SelectBackward0>)\n",
            "tensor([0., 0., 0., 1.], device='cuda:0', grad_fn=<SelectBackward0>)\n",
            "tensor([1., 0., 0., 0.], device='cuda:0', grad_fn=<SelectBackward0>)\n"
          ]
        },
        {
          "output_type": "display_data",
          "data": {
            "text/plain": [
              "<Figure size 1440x2160 with 24 Axes>"
            ],
            "image/png": "[encoded data removed]"
          },
          "metadata": {
            "needs_background": "light"
          }
        }
      ],
      "source": [
        "label_ = [card_edge_1,card_edge_2,card_edge_3,card_edge_4]\n",
        "\n",
        "# Visualize the result\n",
        "fig,ax = plt.subplots(6,4,figsize=(20,30))\n",
        "for i in range(6):\n",
        "    j = np.random.randint(0,100)\n",
        "    ax[i][0].title.set_text('input image')\n",
        "    ax[i][1].title.set_text('affine transform')\n",
        "    ax[i][2].title.set_text('generated basis')\n",
        "    ax[i][3].title.set_text(f'Rotation {np.degrees(np.arccos(theta[j][0,0].detach().cpu()))}')\n",
        "    ax[i][0].imshow(sample[j].squeeze())\n",
        "    \n",
        "    ax[i][1].imshow(out[j].squeeze().detach().cpu())\n",
        "    \n",
        "    #ax[2].imshow((card_small.squeeze()-out[i].squeeze().detach().cpu())**2)\n",
        "    #num = torch.argmax(prob[i])\n",
        "    ax[i][2].imshow(base[j].squeeze().detach().cpu())\n",
        "    \n",
        "    ax[i][3].imshow(inp[j].squeeze().detach().cpu())\n",
        "    \n",
        "    #ax[3].imshow((label_[num].squeeze()-out[i].squeeze().detach().cpu())**2)\n",
        "    print(kout[j])\n",
        "    \n"
      ]
    },
    {
      "cell_type": "code",
      "source": [],
      "metadata": {
        "id": "rmwFiBWamGVb"
      },
      "execution_count": null,
      "outputs": []
    }
  ],
  "metadata": {
    "accelerator": "GPU",
    "colab": {
      "collapsed_sections": [],
      "machine_shape": "hm",
      "provenance": []
    },
    "gpuClass": "premium",
    "kernelspec": {
      "display_name": "Python 3",
      "name": "python3"
    },
    "language_info": {
      "name": "python"
    }
  },
  "nbformat": 4,
  "nbformat_minor": 0
}